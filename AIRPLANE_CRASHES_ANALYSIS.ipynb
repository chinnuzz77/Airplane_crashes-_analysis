{
  "nbformat": 4,
  "nbformat_minor": 0,
  "metadata": {
    "colab": {
      "name": "AIRPLANE CRASHES ANALYSIS.ipynb",
      "provenance": [],
      "collapsed_sections": [],
      "mount_file_id": "1HEzYaxDWbsVv862NwzfzklHWPlvJfja0",
      "authorship_tag": "ABX9TyMHsLT4++mJ8A2qWDChi0yA",
      "include_colab_link": true
    },
    "kernelspec": {
      "name": "python3",
      "display_name": "Python 3"
    },
    "language_info": {
      "name": "python"
    }
  },
  "cells": [
    {
      "cell_type": "markdown",
      "metadata": {
        "id": "view-in-github",
        "colab_type": "text"
      },
      "source": [
        "<a href=\"https://colab.research.google.com/github/chinnuzz77/Airplane_crashes-_analysis/blob/main/AIRPLANE_CRASHES_ANALYSIS.ipynb\" target=\"_parent\"><img src=\"https://colab.research.google.com/assets/colab-badge.svg\" alt=\"Open In Colab\"/></a>"
      ]
    },
    {
      "cell_type": "markdown",
      "metadata": {
        "id": "NLQdbomACygz"
      },
      "source": [
        "  # AIRPLANE CRASHES ANALYSIS\n",
        "\n",
        "---\n",
        "The dataset contains data of airplane accidents involving civil, commercial and \n",
        "military transport worldwide from 1908-09-17 to 2009-06-08.along with \n",
        "\n",
        "\n",
        "\n",
        "information of their type,operator,date,fatalities,aboard,location and summary.\n",
        "\n",
        "\n",
        "\n",
        "\n",
        "\n"
      ]
    },
    {
      "cell_type": "code",
      "metadata": {
        "id": "w6_FhT_ICgSy"
      },
      "source": [
        "# import all the necessary packages \n",
        "import pandas as pd\n",
        "import numpy as np\n",
        "import matplotlib.pyplot as plt\n",
        "import seaborn as sns"
      ],
      "execution_count": null,
      "outputs": []
    },
    {
      "cell_type": "code",
      "metadata": {
        "colab": {
          "base_uri": "https://localhost:8080/",
          "height": 683
        },
        "id": "2k2T0BUCCmuu",
        "outputId": "7fbc6a04-59f1-4b20-8e96-8ecf0c877677"
      },
      "source": [
        "# reading the data set\n",
        "df = pd.read_csv('/content/drive/MyDrive/final _project/Airplane_Crashes_and_Fatalities_Since_1908.csv')\n",
        "df"
      ],
      "execution_count": null,
      "outputs": [
        {
          "output_type": "execute_result",
          "data": {
            "text/html": [
              "<div>\n",
              "<style scoped>\n",
              "    .dataframe tbody tr th:only-of-type {\n",
              "        vertical-align: middle;\n",
              "    }\n",
              "\n",
              "    .dataframe tbody tr th {\n",
              "        vertical-align: top;\n",
              "    }\n",
              "\n",
              "    .dataframe thead th {\n",
              "        text-align: right;\n",
              "    }\n",
              "</style>\n",
              "<table border=\"1\" class=\"dataframe\">\n",
              "  <thead>\n",
              "    <tr style=\"text-align: right;\">\n",
              "      <th></th>\n",
              "      <th>Date</th>\n",
              "      <th>Time</th>\n",
              "      <th>Location</th>\n",
              "      <th>Operator</th>\n",
              "      <th>Flight #</th>\n",
              "      <th>Route</th>\n",
              "      <th>Type</th>\n",
              "      <th>Registration</th>\n",
              "      <th>cn/In</th>\n",
              "      <th>Aboard</th>\n",
              "      <th>Fatalities</th>\n",
              "      <th>Ground</th>\n",
              "      <th>Summary</th>\n",
              "    </tr>\n",
              "  </thead>\n",
              "  <tbody>\n",
              "    <tr>\n",
              "      <th>0</th>\n",
              "      <td>09/17/1908</td>\n",
              "      <td>17:18</td>\n",
              "      <td>Fort Myer, Virginia</td>\n",
              "      <td>Military - U.S. Army</td>\n",
              "      <td>NaN</td>\n",
              "      <td>Demonstration</td>\n",
              "      <td>Wright Flyer III</td>\n",
              "      <td>NaN</td>\n",
              "      <td>1</td>\n",
              "      <td>2.0</td>\n",
              "      <td>1.0</td>\n",
              "      <td>0.0</td>\n",
              "      <td>During a demonstration flight, a U.S. Army fly...</td>\n",
              "    </tr>\n",
              "    <tr>\n",
              "      <th>1</th>\n",
              "      <td>07/12/1912</td>\n",
              "      <td>06:30</td>\n",
              "      <td>AtlantiCity, New Jersey</td>\n",
              "      <td>Military - U.S. Navy</td>\n",
              "      <td>NaN</td>\n",
              "      <td>Test flight</td>\n",
              "      <td>Dirigible</td>\n",
              "      <td>NaN</td>\n",
              "      <td>NaN</td>\n",
              "      <td>5.0</td>\n",
              "      <td>5.0</td>\n",
              "      <td>0.0</td>\n",
              "      <td>First U.S. dirigible Akron exploded just offsh...</td>\n",
              "    </tr>\n",
              "    <tr>\n",
              "      <th>2</th>\n",
              "      <td>08/06/1913</td>\n",
              "      <td>NaN</td>\n",
              "      <td>Victoria, British Columbia, Canada</td>\n",
              "      <td>Private</td>\n",
              "      <td>-</td>\n",
              "      <td>NaN</td>\n",
              "      <td>Curtiss seaplane</td>\n",
              "      <td>NaN</td>\n",
              "      <td>NaN</td>\n",
              "      <td>1.0</td>\n",
              "      <td>1.0</td>\n",
              "      <td>0.0</td>\n",
              "      <td>The first fatal airplane accident in Canada oc...</td>\n",
              "    </tr>\n",
              "    <tr>\n",
              "      <th>3</th>\n",
              "      <td>09/09/1913</td>\n",
              "      <td>18:30</td>\n",
              "      <td>Over the North Sea</td>\n",
              "      <td>Military - German Navy</td>\n",
              "      <td>NaN</td>\n",
              "      <td>NaN</td>\n",
              "      <td>Zeppelin L-1 (airship)</td>\n",
              "      <td>NaN</td>\n",
              "      <td>NaN</td>\n",
              "      <td>20.0</td>\n",
              "      <td>14.0</td>\n",
              "      <td>0.0</td>\n",
              "      <td>The airship flew into a thunderstorm and encou...</td>\n",
              "    </tr>\n",
              "    <tr>\n",
              "      <th>4</th>\n",
              "      <td>10/17/1913</td>\n",
              "      <td>10:30</td>\n",
              "      <td>Near Johannisthal, Germany</td>\n",
              "      <td>Military - German Navy</td>\n",
              "      <td>NaN</td>\n",
              "      <td>NaN</td>\n",
              "      <td>Zeppelin L-2 (airship)</td>\n",
              "      <td>NaN</td>\n",
              "      <td>NaN</td>\n",
              "      <td>30.0</td>\n",
              "      <td>30.0</td>\n",
              "      <td>0.0</td>\n",
              "      <td>Hydrogen gas which was being vented was sucked...</td>\n",
              "    </tr>\n",
              "    <tr>\n",
              "      <th>...</th>\n",
              "      <td>...</td>\n",
              "      <td>...</td>\n",
              "      <td>...</td>\n",
              "      <td>...</td>\n",
              "      <td>...</td>\n",
              "      <td>...</td>\n",
              "      <td>...</td>\n",
              "      <td>...</td>\n",
              "      <td>...</td>\n",
              "      <td>...</td>\n",
              "      <td>...</td>\n",
              "      <td>...</td>\n",
              "      <td>...</td>\n",
              "    </tr>\n",
              "    <tr>\n",
              "      <th>5263</th>\n",
              "      <td>05/20/2009</td>\n",
              "      <td>06:30</td>\n",
              "      <td>Near Madiun, Indonesia</td>\n",
              "      <td>Military - Indonesian Air Force</td>\n",
              "      <td>NaN</td>\n",
              "      <td>Jakarta - Maduin</td>\n",
              "      <td>Lockheed C-130 Hercules</td>\n",
              "      <td>A-1325</td>\n",
              "      <td>1982</td>\n",
              "      <td>112.0</td>\n",
              "      <td>98.0</td>\n",
              "      <td>2.0</td>\n",
              "      <td>While on approach, the military transport cras...</td>\n",
              "    </tr>\n",
              "    <tr>\n",
              "      <th>5264</th>\n",
              "      <td>05/26/2009</td>\n",
              "      <td>NaN</td>\n",
              "      <td>Near Isiro, DemocratiRepubliCongo</td>\n",
              "      <td>Service Air</td>\n",
              "      <td>NaN</td>\n",
              "      <td>Goma - Isiro</td>\n",
              "      <td>Antonov An-26</td>\n",
              "      <td>9Q-CSA</td>\n",
              "      <td>5005</td>\n",
              "      <td>4.0</td>\n",
              "      <td>4.0</td>\n",
              "      <td>NaN</td>\n",
              "      <td>The cargo plane crashed while on approach to I...</td>\n",
              "    </tr>\n",
              "    <tr>\n",
              "      <th>5265</th>\n",
              "      <td>06/01/2009</td>\n",
              "      <td>00:15</td>\n",
              "      <td>AtlantiOcean, 570 miles northeast of Natal, Br...</td>\n",
              "      <td>Air France</td>\n",
              "      <td>447</td>\n",
              "      <td>Rio de Janeiro - Paris</td>\n",
              "      <td>Airbus A330-203</td>\n",
              "      <td>F-GZCP</td>\n",
              "      <td>660</td>\n",
              "      <td>228.0</td>\n",
              "      <td>228.0</td>\n",
              "      <td>0.0</td>\n",
              "      <td>The Airbus went missing over the AtlantiOcean ...</td>\n",
              "    </tr>\n",
              "    <tr>\n",
              "      <th>5266</th>\n",
              "      <td>06/07/2009</td>\n",
              "      <td>08:30</td>\n",
              "      <td>Near Port Hope Simpson, Newfoundland, Canada</td>\n",
              "      <td>Strait Air</td>\n",
              "      <td>NaN</td>\n",
              "      <td>Lourdes de BlanSablon - Port Hope Simpson</td>\n",
              "      <td>Britten-Norman BN-2A-27 Islander</td>\n",
              "      <td>C-FJJR</td>\n",
              "      <td>424</td>\n",
              "      <td>1.0</td>\n",
              "      <td>1.0</td>\n",
              "      <td>0.0</td>\n",
              "      <td>The air ambulance crashed into hills while att...</td>\n",
              "    </tr>\n",
              "    <tr>\n",
              "      <th>5267</th>\n",
              "      <td>06/08/2009</td>\n",
              "      <td>NaN</td>\n",
              "      <td>State of Arunachal Pradesh, India</td>\n",
              "      <td>Military - Indian Air Force</td>\n",
              "      <td>NaN</td>\n",
              "      <td>Mechuka for Jorhat</td>\n",
              "      <td>Antonov An-32</td>\n",
              "      <td>NaN</td>\n",
              "      <td>NaN</td>\n",
              "      <td>13.0</td>\n",
              "      <td>13.0</td>\n",
              "      <td>0.0</td>\n",
              "      <td>The military transport went missing while en r...</td>\n",
              "    </tr>\n",
              "  </tbody>\n",
              "</table>\n",
              "<p>5268 rows × 13 columns</p>\n",
              "</div>"
            ],
            "text/plain": [
              "            Date  ...                                            Summary\n",
              "0     09/17/1908  ...  During a demonstration flight, a U.S. Army fly...\n",
              "1     07/12/1912  ...  First U.S. dirigible Akron exploded just offsh...\n",
              "2     08/06/1913  ...  The first fatal airplane accident in Canada oc...\n",
              "3     09/09/1913  ...  The airship flew into a thunderstorm and encou...\n",
              "4     10/17/1913  ...  Hydrogen gas which was being vented was sucked...\n",
              "...          ...  ...                                                ...\n",
              "5263  05/20/2009  ...  While on approach, the military transport cras...\n",
              "5264  05/26/2009  ...  The cargo plane crashed while on approach to I...\n",
              "5265  06/01/2009  ...  The Airbus went missing over the AtlantiOcean ...\n",
              "5266  06/07/2009  ...  The air ambulance crashed into hills while att...\n",
              "5267  06/08/2009  ...  The military transport went missing while en r...\n",
              "\n",
              "[5268 rows x 13 columns]"
            ]
          },
          "metadata": {},
          "execution_count": 2
        }
      ]
    },
    {
      "cell_type": "code",
      "metadata": {
        "colab": {
          "base_uri": "https://localhost:8080/"
        },
        "id": "RBEY9kgXCm7r",
        "outputId": "11ba56bc-12bf-4446-8d89-6e755adf437a"
      },
      "source": [
        "df.shape       # shape of the data"
      ],
      "execution_count": null,
      "outputs": [
        {
          "output_type": "execute_result",
          "data": {
            "text/plain": [
              "(5268, 13)"
            ]
          },
          "metadata": {},
          "execution_count": 3
        }
      ]
    },
    {
      "cell_type": "code",
      "metadata": {
        "colab": {
          "base_uri": "https://localhost:8080/"
        },
        "id": "i20Q1mmkCm-o",
        "outputId": "149f6b6e-e678-47ec-d840-42e2f866a607"
      },
      "source": [
        "df.columns    # finding the columns"
      ],
      "execution_count": null,
      "outputs": [
        {
          "output_type": "execute_result",
          "data": {
            "text/plain": [
              "Index(['Date', 'Time', 'Location', 'Operator', 'Flight #', 'Route', 'Type',\n",
              "       'Registration', 'cn/In', 'Aboard', 'Fatalities', 'Ground', 'Summary'],\n",
              "      dtype='object')"
            ]
          },
          "metadata": {},
          "execution_count": 4
        }
      ]
    },
    {
      "cell_type": "code",
      "metadata": {
        "colab": {
          "base_uri": "https://localhost:8080/"
        },
        "id": "hnEuStjBCnCE",
        "outputId": "5df30c1c-28f0-4586-abde-efc37ed6cf02"
      },
      "source": [
        "df.info()"
      ],
      "execution_count": null,
      "outputs": [
        {
          "output_type": "stream",
          "name": "stdout",
          "text": [
            "<class 'pandas.core.frame.DataFrame'>\n",
            "RangeIndex: 5268 entries, 0 to 5267\n",
            "Data columns (total 13 columns):\n",
            " #   Column        Non-Null Count  Dtype  \n",
            "---  ------        --------------  -----  \n",
            " 0   Date          5268 non-null   object \n",
            " 1   Time          3049 non-null   object \n",
            " 2   Location      5248 non-null   object \n",
            " 3   Operator      5250 non-null   object \n",
            " 4   Flight #      1069 non-null   object \n",
            " 5   Route         3562 non-null   object \n",
            " 6   Type          5241 non-null   object \n",
            " 7   Registration  4933 non-null   object \n",
            " 8   cn/In         4040 non-null   object \n",
            " 9   Aboard        5246 non-null   float64\n",
            " 10  Fatalities    5256 non-null   float64\n",
            " 11  Ground        5246 non-null   float64\n",
            " 12  Summary       4878 non-null   object \n",
            "dtypes: float64(3), object(10)\n",
            "memory usage: 535.2+ KB\n"
          ]
        }
      ]
    },
    {
      "cell_type": "code",
      "metadata": {
        "colab": {
          "base_uri": "https://localhost:8080/",
          "height": 300
        },
        "id": "Nu0hA5xsCnFm",
        "outputId": "583c40ca-bfde-41f6-9ccb-6891c0acfe1d"
      },
      "source": [
        "df.describe()"
      ],
      "execution_count": null,
      "outputs": [
        {
          "output_type": "execute_result",
          "data": {
            "text/html": [
              "<div>\n",
              "<style scoped>\n",
              "    .dataframe tbody tr th:only-of-type {\n",
              "        vertical-align: middle;\n",
              "    }\n",
              "\n",
              "    .dataframe tbody tr th {\n",
              "        vertical-align: top;\n",
              "    }\n",
              "\n",
              "    .dataframe thead th {\n",
              "        text-align: right;\n",
              "    }\n",
              "</style>\n",
              "<table border=\"1\" class=\"dataframe\">\n",
              "  <thead>\n",
              "    <tr style=\"text-align: right;\">\n",
              "      <th></th>\n",
              "      <th>Aboard</th>\n",
              "      <th>Fatalities</th>\n",
              "      <th>Ground</th>\n",
              "    </tr>\n",
              "  </thead>\n",
              "  <tbody>\n",
              "    <tr>\n",
              "      <th>count</th>\n",
              "      <td>5246.000000</td>\n",
              "      <td>5256.000000</td>\n",
              "      <td>5246.000000</td>\n",
              "    </tr>\n",
              "    <tr>\n",
              "      <th>mean</th>\n",
              "      <td>27.554518</td>\n",
              "      <td>20.068303</td>\n",
              "      <td>1.608845</td>\n",
              "    </tr>\n",
              "    <tr>\n",
              "      <th>std</th>\n",
              "      <td>43.076711</td>\n",
              "      <td>33.199952</td>\n",
              "      <td>53.987827</td>\n",
              "    </tr>\n",
              "    <tr>\n",
              "      <th>min</th>\n",
              "      <td>0.000000</td>\n",
              "      <td>0.000000</td>\n",
              "      <td>0.000000</td>\n",
              "    </tr>\n",
              "    <tr>\n",
              "      <th>25%</th>\n",
              "      <td>5.000000</td>\n",
              "      <td>3.000000</td>\n",
              "      <td>0.000000</td>\n",
              "    </tr>\n",
              "    <tr>\n",
              "      <th>50%</th>\n",
              "      <td>13.000000</td>\n",
              "      <td>9.000000</td>\n",
              "      <td>0.000000</td>\n",
              "    </tr>\n",
              "    <tr>\n",
              "      <th>75%</th>\n",
              "      <td>30.000000</td>\n",
              "      <td>23.000000</td>\n",
              "      <td>0.000000</td>\n",
              "    </tr>\n",
              "    <tr>\n",
              "      <th>max</th>\n",
              "      <td>644.000000</td>\n",
              "      <td>583.000000</td>\n",
              "      <td>2750.000000</td>\n",
              "    </tr>\n",
              "  </tbody>\n",
              "</table>\n",
              "</div>"
            ],
            "text/plain": [
              "            Aboard   Fatalities       Ground\n",
              "count  5246.000000  5256.000000  5246.000000\n",
              "mean     27.554518    20.068303     1.608845\n",
              "std      43.076711    33.199952    53.987827\n",
              "min       0.000000     0.000000     0.000000\n",
              "25%       5.000000     3.000000     0.000000\n",
              "50%      13.000000     9.000000     0.000000\n",
              "75%      30.000000    23.000000     0.000000\n",
              "max     644.000000   583.000000  2750.000000"
            ]
          },
          "metadata": {},
          "execution_count": 6
        }
      ]
    },
    {
      "cell_type": "code",
      "metadata": {
        "colab": {
          "base_uri": "https://localhost:8080/"
        },
        "id": "LIhUFKrwCnJB",
        "outputId": "5d78bc5b-9d06-4205-ea6c-ec8a2a4a1918"
      },
      "source": [
        "df.isnull().sum()           # checking the null values in data set"
      ],
      "execution_count": null,
      "outputs": [
        {
          "output_type": "execute_result",
          "data": {
            "text/plain": [
              "Date               0\n",
              "Time            2219\n",
              "Location          20\n",
              "Operator          18\n",
              "Flight #        4199\n",
              "Route           1706\n",
              "Type              27\n",
              "Registration     335\n",
              "cn/In           1228\n",
              "Aboard            22\n",
              "Fatalities        12\n",
              "Ground            22\n",
              "Summary          390\n",
              "dtype: int64"
            ]
          },
          "metadata": {},
          "execution_count": 7
        }
      ]
    },
    {
      "cell_type": "markdown",
      "metadata": {
        "id": "pkQ5GmQGKPOG"
      },
      "source": [
        "# CLEANING THE DATASET"
      ]
    },
    {
      "cell_type": "code",
      "metadata": {
        "id": "Ln-CeZqICoiM"
      },
      "source": [
        "df['Date'] = pd.to_datetime(df['Date'])            #Let's convert the 'Date' column to the appropriate format.\n",
        "df['Date'] = df['Date'].dt.strftime(\"%d/%m/%Y\")     \n",
        "\n",
        "df['Year'] = pd.DatetimeIndex(df['Date']).year        #For visualization purposes, let's create a new column with just the year from the column 'Date'."
      ],
      "execution_count": null,
      "outputs": []
    },
    {
      "cell_type": "code",
      "metadata": {
        "id": "vvO8-OzZColO"
      },
      "source": [
        "df.Location = df.Location.fillna('UNKNOWN')\n",
        "df.Operator = df.Operator.fillna('UNKNOWN')\n",
        "df.Route = df.Route.fillna('UNKNOWN')\n",
        "df.Type = df.Type.fillna('UNKNOWN')\n",
        "df.Aboard = df.Aboard.fillna(0)           # we have some NaN values. For the numeric columns,we'll replace these values with 0. And in categorical colums we fill it with unknown.'''\n",
        "df.Fatalities = df.Fatalities.fillna(0)\n",
        "df['Ground'].fillna(0, inplace=True)\n",
        "df.Registration = df.Registration.fillna('UNKNOWN')\n",
        "df.Summary = df.Summary.fillna('UNKNOWN')\n",
        "df.Time = df.Time.fillna('UNKNOWN')"
      ],
      "execution_count": null,
      "outputs": []
    },
    {
      "cell_type": "code",
      "metadata": {
        "id": "NDIxsrIPCo0c"
      },
      "source": [
        "df.drop(['Flight #'], axis=1, inplace=True)     # drop two columns which is not necessary for our analysis\n",
        "df.drop(['cn/In'], axis=1, inplace=True)"
      ],
      "execution_count": null,
      "outputs": []
    },
    {
      "cell_type": "code",
      "metadata": {
        "id": "55qaxFuhCo3o"
      },
      "source": [
        "df['Survived'] = df.Aboard - df.Fatalities      # adda new column to the dataset for further analysis"
      ],
      "execution_count": null,
      "outputs": []
    },
    {
      "cell_type": "code",
      "metadata": {
        "colab": {
          "base_uri": "https://localhost:8080/"
        },
        "id": "ymh9fziBCo6f",
        "outputId": "48d5fca2-3dca-4b5b-b09f-4f93f895ae5b"
      },
      "source": [
        "df.isnull().sum()"
      ],
      "execution_count": null,
      "outputs": [
        {
          "output_type": "execute_result",
          "data": {
            "text/plain": [
              "Date            0\n",
              "Time            0\n",
              "Location        0\n",
              "Operator        0\n",
              "Route           0\n",
              "Type            0\n",
              "Registration    0\n",
              "Aboard          0\n",
              "Fatalities      0\n",
              "Ground          0\n",
              "Summary         0\n",
              "Year            0\n",
              "Survived        0\n",
              "dtype: int64"
            ]
          },
          "metadata": {},
          "execution_count": 12
        }
      ]
    },
    {
      "cell_type": "code",
      "metadata": {
        "colab": {
          "base_uri": "https://localhost:8080/",
          "height": 293
        },
        "id": "3Sz8bmvIVlZ4",
        "outputId": "4724361c-de5b-42a5-9a1d-f94133fac84d"
      },
      "source": [
        "df.head(5)       # now our dataset look like this "
      ],
      "execution_count": null,
      "outputs": [
        {
          "output_type": "execute_result",
          "data": {
            "text/html": [
              "<div>\n",
              "<style scoped>\n",
              "    .dataframe tbody tr th:only-of-type {\n",
              "        vertical-align: middle;\n",
              "    }\n",
              "\n",
              "    .dataframe tbody tr th {\n",
              "        vertical-align: top;\n",
              "    }\n",
              "\n",
              "    .dataframe thead th {\n",
              "        text-align: right;\n",
              "    }\n",
              "</style>\n",
              "<table border=\"1\" class=\"dataframe\">\n",
              "  <thead>\n",
              "    <tr style=\"text-align: right;\">\n",
              "      <th></th>\n",
              "      <th>Date</th>\n",
              "      <th>Time</th>\n",
              "      <th>Location</th>\n",
              "      <th>Operator</th>\n",
              "      <th>Route</th>\n",
              "      <th>Type</th>\n",
              "      <th>Registration</th>\n",
              "      <th>Aboard</th>\n",
              "      <th>Fatalities</th>\n",
              "      <th>Ground</th>\n",
              "      <th>Summary</th>\n",
              "      <th>Year</th>\n",
              "      <th>Survived</th>\n",
              "    </tr>\n",
              "  </thead>\n",
              "  <tbody>\n",
              "    <tr>\n",
              "      <th>0</th>\n",
              "      <td>17/09/1908</td>\n",
              "      <td>17:18</td>\n",
              "      <td>Fort Myer, Virginia</td>\n",
              "      <td>Military - U.S. Army</td>\n",
              "      <td>Demonstration</td>\n",
              "      <td>Wright Flyer III</td>\n",
              "      <td>UNKNOWN</td>\n",
              "      <td>2.0</td>\n",
              "      <td>1.0</td>\n",
              "      <td>0.0</td>\n",
              "      <td>During a demonstration flight, a U.S. Army fly...</td>\n",
              "      <td>1908</td>\n",
              "      <td>1.0</td>\n",
              "    </tr>\n",
              "    <tr>\n",
              "      <th>1</th>\n",
              "      <td>12/07/1912</td>\n",
              "      <td>06:30</td>\n",
              "      <td>AtlantiCity, New Jersey</td>\n",
              "      <td>Military - U.S. Navy</td>\n",
              "      <td>Test flight</td>\n",
              "      <td>Dirigible</td>\n",
              "      <td>UNKNOWN</td>\n",
              "      <td>5.0</td>\n",
              "      <td>5.0</td>\n",
              "      <td>0.0</td>\n",
              "      <td>First U.S. dirigible Akron exploded just offsh...</td>\n",
              "      <td>1912</td>\n",
              "      <td>0.0</td>\n",
              "    </tr>\n",
              "    <tr>\n",
              "      <th>2</th>\n",
              "      <td>06/08/1913</td>\n",
              "      <td>UNKNOWN</td>\n",
              "      <td>Victoria, British Columbia, Canada</td>\n",
              "      <td>Private</td>\n",
              "      <td>UNKNOWN</td>\n",
              "      <td>Curtiss seaplane</td>\n",
              "      <td>UNKNOWN</td>\n",
              "      <td>1.0</td>\n",
              "      <td>1.0</td>\n",
              "      <td>0.0</td>\n",
              "      <td>The first fatal airplane accident in Canada oc...</td>\n",
              "      <td>1913</td>\n",
              "      <td>0.0</td>\n",
              "    </tr>\n",
              "    <tr>\n",
              "      <th>3</th>\n",
              "      <td>09/09/1913</td>\n",
              "      <td>18:30</td>\n",
              "      <td>Over the North Sea</td>\n",
              "      <td>Military - German Navy</td>\n",
              "      <td>UNKNOWN</td>\n",
              "      <td>Zeppelin L-1 (airship)</td>\n",
              "      <td>UNKNOWN</td>\n",
              "      <td>20.0</td>\n",
              "      <td>14.0</td>\n",
              "      <td>0.0</td>\n",
              "      <td>The airship flew into a thunderstorm and encou...</td>\n",
              "      <td>1913</td>\n",
              "      <td>6.0</td>\n",
              "    </tr>\n",
              "    <tr>\n",
              "      <th>4</th>\n",
              "      <td>17/10/1913</td>\n",
              "      <td>10:30</td>\n",
              "      <td>Near Johannisthal, Germany</td>\n",
              "      <td>Military - German Navy</td>\n",
              "      <td>UNKNOWN</td>\n",
              "      <td>Zeppelin L-2 (airship)</td>\n",
              "      <td>UNKNOWN</td>\n",
              "      <td>30.0</td>\n",
              "      <td>30.0</td>\n",
              "      <td>0.0</td>\n",
              "      <td>Hydrogen gas which was being vented was sucked...</td>\n",
              "      <td>1913</td>\n",
              "      <td>0.0</td>\n",
              "    </tr>\n",
              "  </tbody>\n",
              "</table>\n",
              "</div>"
            ],
            "text/plain": [
              "         Date     Time  ...  Year Survived\n",
              "0  17/09/1908    17:18  ...  1908      1.0\n",
              "1  12/07/1912    06:30  ...  1912      0.0\n",
              "2  06/08/1913  UNKNOWN  ...  1913      0.0\n",
              "3  09/09/1913    18:30  ...  1913      6.0\n",
              "4  17/10/1913    10:30  ...  1913      0.0\n",
              "\n",
              "[5 rows x 13 columns]"
            ]
          },
          "metadata": {},
          "execution_count": 13
        }
      ]
    },
    {
      "cell_type": "markdown",
      "metadata": {
        "id": "_fYPE90aYHWr"
      },
      "source": [
        " # EXPLORING THE DATASET"
      ]
    },
    {
      "cell_type": "markdown",
      "metadata": {
        "id": "frec6Sytajwu"
      },
      "source": [
        "* Yearly how many planes crashed?"
      ]
    },
    {
      "cell_type": "code",
      "metadata": {
        "id": "fcmimTdyVlvp"
      },
      "source": [
        "# total crashes per year\n",
        "total_crashed_year = df[['Year', 'Date']].groupby('Year').count()\n",
        "total_crashed_year = total_crashed_year.reset_index()\n",
        "total_crashed_year.columns = ['Year', 'Crashes']"
      ],
      "execution_count": null,
      "outputs": []
    },
    {
      "cell_type": "code",
      "metadata": {
        "colab": {
          "base_uri": "https://localhost:8080/",
          "height": 404
        },
        "id": "AoXVBTDAVlym",
        "outputId": "0db8f63c-9e29-45f8-e216-1485aac6d70e"
      },
      "source": [
        "plt.figure(figsize=(12,6))\n",
        "sns.lineplot(x = 'Year', y = 'Crashes', data=total_crashed_year)\n",
        "plt.title('Total Airplane Crashes per Year')\n",
        "plt.xlabel('Years')\n",
        "plt.ylabel('Crashes')\n",
        "plt.savefig('pic1',bbox_inches='tight')\n",
        "plt.show()"
      ],
      "execution_count": null,
      "outputs": [
        {
          "output_type": "display_data",
          "data": {
            "image/png": "[encoded data removed]",
            "text/plain": [
              "<Figure size 864x432 with 1 Axes>"
            ]
          },
          "metadata": {
            "needs_background": "light"
          }
        }
      ]
    },
    {
      "cell_type": "code",
      "metadata": {
        "colab": {
          "base_uri": "https://localhost:8080/",
          "height": 551
        },
        "id": "rpNkrPIAfr7i",
        "outputId": "c855aa7a-eaad-4d02-ab4b-bf6738a3e8b9"
      },
      "source": [
        "total_crashed_year[total_crashed_year['Crashes'] > 80]"
      ],
      "execution_count": null,
      "outputs": [
        {
          "output_type": "execute_result",
          "data": {
            "text/html": [
              "<div>\n",
              "<style scoped>\n",
              "    .dataframe tbody tr th:only-of-type {\n",
              "        vertical-align: middle;\n",
              "    }\n",
              "\n",
              "    .dataframe tbody tr th {\n",
              "        vertical-align: top;\n",
              "    }\n",
              "\n",
              "    .dataframe thead th {\n",
              "        text-align: right;\n",
              "    }\n",
              "</style>\n",
              "<table border=\"1\" class=\"dataframe\">\n",
              "  <thead>\n",
              "    <tr style=\"text-align: right;\">\n",
              "      <th></th>\n",
              "      <th>Year</th>\n",
              "      <th>Crashes</th>\n",
              "    </tr>\n",
              "  </thead>\n",
              "  <tbody>\n",
              "    <tr>\n",
              "      <th>55</th>\n",
              "      <td>1967</td>\n",
              "      <td>91</td>\n",
              "    </tr>\n",
              "    <tr>\n",
              "      <th>56</th>\n",
              "      <td>1968</td>\n",
              "      <td>96</td>\n",
              "    </tr>\n",
              "    <tr>\n",
              "      <th>57</th>\n",
              "      <td>1969</td>\n",
              "      <td>82</td>\n",
              "    </tr>\n",
              "    <tr>\n",
              "      <th>58</th>\n",
              "      <td>1970</td>\n",
              "      <td>87</td>\n",
              "    </tr>\n",
              "    <tr>\n",
              "      <th>60</th>\n",
              "      <td>1972</td>\n",
              "      <td>104</td>\n",
              "    </tr>\n",
              "    <tr>\n",
              "      <th>61</th>\n",
              "      <td>1973</td>\n",
              "      <td>89</td>\n",
              "    </tr>\n",
              "    <tr>\n",
              "      <th>62</th>\n",
              "      <td>1974</td>\n",
              "      <td>82</td>\n",
              "    </tr>\n",
              "    <tr>\n",
              "      <th>64</th>\n",
              "      <td>1976</td>\n",
              "      <td>86</td>\n",
              "    </tr>\n",
              "    <tr>\n",
              "      <th>65</th>\n",
              "      <td>1977</td>\n",
              "      <td>81</td>\n",
              "    </tr>\n",
              "    <tr>\n",
              "      <th>67</th>\n",
              "      <td>1979</td>\n",
              "      <td>89</td>\n",
              "    </tr>\n",
              "    <tr>\n",
              "      <th>76</th>\n",
              "      <td>1988</td>\n",
              "      <td>83</td>\n",
              "    </tr>\n",
              "    <tr>\n",
              "      <th>77</th>\n",
              "      <td>1989</td>\n",
              "      <td>95</td>\n",
              "    </tr>\n",
              "    <tr>\n",
              "      <th>79</th>\n",
              "      <td>1991</td>\n",
              "      <td>88</td>\n",
              "    </tr>\n",
              "    <tr>\n",
              "      <th>80</th>\n",
              "      <td>1992</td>\n",
              "      <td>86</td>\n",
              "    </tr>\n",
              "    <tr>\n",
              "      <th>82</th>\n",
              "      <td>1994</td>\n",
              "      <td>87</td>\n",
              "    </tr>\n",
              "    <tr>\n",
              "      <th>84</th>\n",
              "      <td>1996</td>\n",
              "      <td>81</td>\n",
              "    </tr>\n",
              "  </tbody>\n",
              "</table>\n",
              "</div>"
            ],
            "text/plain": [
              "    Year  Crashes\n",
              "55  1967       91\n",
              "56  1968       96\n",
              "57  1969       82\n",
              "58  1970       87\n",
              "60  1972      104\n",
              "61  1973       89\n",
              "62  1974       82\n",
              "64  1976       86\n",
              "65  1977       81\n",
              "67  1979       89\n",
              "76  1988       83\n",
              "77  1989       95\n",
              "79  1991       88\n",
              "80  1992       86\n",
              "82  1994       87\n",
              "84  1996       81"
            ]
          },
          "metadata": {},
          "execution_count": 16
        }
      ]
    },
    {
      "cell_type": "markdown",
      "metadata": {
        "id": "8nckB-XAgjjP"
      },
      "source": [
        "# insights\n",
        "From the 40's, there's a significant increase in airplane crashes, which must likely be because of World War II (1939 - 1945). The highest peaks are between 1960 and 2000. The year with most accidents is 1972, with 104 occurences."
      ]
    },
    {
      "cell_type": "code",
      "metadata": {
        "id": "fchMCNfukRRp"
      },
      "source": [
        ""
      ],
      "execution_count": null,
      "outputs": []
    },
    {
      "cell_type": "markdown",
      "metadata": {
        "id": "zLN72CeqbpIk"
      },
      "source": [
        "* How many deaths per year ? "
      ]
    },
    {
      "cell_type": "code",
      "metadata": {
        "id": "CUEmitDKVl1r"
      },
      "source": [
        "# total plane crash deaths per year\n",
        "pcdeaths = df[['Year', 'Fatalities']].groupby('Year').sum()\n",
        "pcdeaths.reset_index(inplace=True)"
      ],
      "execution_count": null,
      "outputs": []
    },
    {
      "cell_type": "code",
      "metadata": {
        "colab": {
          "base_uri": "https://localhost:8080/",
          "height": 404
        },
        "id": "Ccf2zAdyVl7E",
        "outputId": "7b2fbb31-1ada-4c24-9cc8-196f88a479dc"
      },
      "source": [
        "plt.figure(figsize=(12,6))\n",
        "sns.lineplot(x = 'Year', y = 'Fatalities', data=pcdeaths)\n",
        "plt.title('Plane Crash Deaths Per Year')\n",
        "plt.xlabel('Year')\n",
        "plt.ylabel('Deaths')\n",
        "plt.savefig('pic2',bbox_inches='tight')\n",
        "plt.show()"
      ],
      "execution_count": null,
      "outputs": [
        {
          "output_type": "display_data",
          "data": {
            "image/png": "[encoded data removed]",
            "text/plain": [
              "<Figure size 864x432 with 1 Axes>"
            ]
          },
          "metadata": {
            "needs_background": "light"
          }
        }
      ]
    },
    {
      "cell_type": "markdown",
      "metadata": {
        "id": "q6Jw033rhryx"
      },
      "source": [
        "# insights\n",
        "Here we can see the same pattern, the years that had the most accidents are also the ones with the most fatalities"
      ]
    },
    {
      "cell_type": "code",
      "metadata": {
        "id": "iYV2PTWAVl_p"
      },
      "source": [
        ""
      ],
      "execution_count": null,
      "outputs": []
    },
    {
      "cell_type": "markdown",
      "metadata": {
        "id": "8p8f8pe0dWmm"
      },
      "source": [
        "* How many passengers in  crashed planes each year ?"
      ]
    },
    {
      "cell_type": "code",
      "metadata": {
        "id": "UXoWQEFEVmC_"
      },
      "source": [
        "# total passengers in crashed planes per year\n",
        "aboard_yearly = df[['Year', 'Aboard']].groupby('Year').sum()\n",
        "aboard_yearly.reset_index(inplace = True)"
      ],
      "execution_count": null,
      "outputs": []
    },
    {
      "cell_type": "code",
      "metadata": {
        "colab": {
          "base_uri": "https://localhost:8080/",
          "height": 404
        },
        "id": "mqszpuaMVmGW",
        "outputId": "dcb8b7a1-f581-4103-c6d7-477dac291ab3"
      },
      "source": [
        "plt.figure(figsize=(12,6))\n",
        "sns.lineplot(x = 'Year', y='Aboard', data=aboard_yearly)\n",
        "plt.title('Passengers Aboard Crashed Airplanes per Year')\n",
        "plt.xlabel('Year')\n",
        "plt.ylabel('Passengers')\n",
        "plt.savefig('pic3',bbox_inches='tight')\n",
        "plt.show()"
      ],
      "execution_count": null,
      "outputs": [
        {
          "output_type": "display_data",
          "data": {
            "image/png": "[encoded data removed]",
            "text/plain": [
              "<Figure size 864x432 with 1 Axes>"
            ]
          },
          "metadata": {
            "needs_background": "light"
          }
        }
      ]
    },
    {
      "cell_type": "markdown",
      "metadata": {
        "id": "KTDlKi2kaGgj"
      },
      "source": [
        "# insights\n",
        "From the 40's, the number of people aboard airplanes starts to increase. From 1960 to 2000 is where we have most people aboard, the same years with most plane crashes and fatalities. "
      ]
    },
    {
      "cell_type": "code",
      "metadata": {
        "id": "11wG0emnivGJ"
      },
      "source": [
        ""
      ],
      "execution_count": null,
      "outputs": []
    },
    {
      "cell_type": "markdown",
      "metadata": {
        "id": "ORg7PZ8QaTLw"
      },
      "source": [
        "* Analysing the values of survived,fatalities,and ground "
      ]
    },
    {
      "cell_type": "code",
      "metadata": {
        "colab": {
          "base_uri": "https://localhost:8080/",
          "height": 404
        },
        "id": "m-9tFNEhVmJL",
        "outputId": "da98bc8c-3a63-49b1-d8ec-63e9e37abbdd"
      },
      "source": [
        "compare = df[['Year', 'Fatalities', 'Survived', 'Ground']].groupby('Year').sum()\n",
        "compare.reset_index(inplace=True)\n",
        "plt.figure(figsize=(12,6))\n",
        "sns.lineplot(x ='Year', y ='Survived', data=compare, color='blue', label='Survived')\n",
        "sns.lineplot(x ='Year', y ='Fatalities', data=compare, color='green', label='Deaths')\n",
        "sns.lineplot(x ='Year', y ='Ground', data=compare, color='red', label='Ground')\n",
        "plt.title('Comparing Passengers survived, Total Crash Deaths and Ground Deaths')\n",
        "plt.xlabel('Year')\n",
        "plt.ylabel('People')\n",
        "plt.savefig('pic4',bbox_inches='tight')\n",
        "plt.show()"
      ],
      "execution_count": null,
      "outputs": [
        {
          "output_type": "display_data",
          "data": {
            "image/png": "[encoded data removed]",
            "text/plain": [
              "<Figure size 864x432 with 1 Axes>"
            ]
          },
          "metadata": {
            "needs_background": "light"
          }
        }
      ]
    },
    {
      "cell_type": "code",
      "metadata": {
        "colab": {
          "base_uri": "https://localhost:8080/",
          "height": 146
        },
        "id": "K9dixceLVmMr",
        "outputId": "7bee7c2d-e40a-4edd-e07b-fb9c82f243da"
      },
      "source": [
        "df[df['Ground'] == 2750]"
      ],
      "execution_count": null,
      "outputs": [
        {
          "output_type": "execute_result",
          "data": {
            "text/html": [
              "<div>\n",
              "<style scoped>\n",
              "    .dataframe tbody tr th:only-of-type {\n",
              "        vertical-align: middle;\n",
              "    }\n",
              "\n",
              "    .dataframe tbody tr th {\n",
              "        vertical-align: top;\n",
              "    }\n",
              "\n",
              "    .dataframe thead th {\n",
              "        text-align: right;\n",
              "    }\n",
              "</style>\n",
              "<table border=\"1\" class=\"dataframe\">\n",
              "  <thead>\n",
              "    <tr style=\"text-align: right;\">\n",
              "      <th></th>\n",
              "      <th>Date</th>\n",
              "      <th>Time</th>\n",
              "      <th>Location</th>\n",
              "      <th>Operator</th>\n",
              "      <th>Route</th>\n",
              "      <th>Type</th>\n",
              "      <th>Registration</th>\n",
              "      <th>Aboard</th>\n",
              "      <th>Fatalities</th>\n",
              "      <th>Ground</th>\n",
              "      <th>Summary</th>\n",
              "      <th>Year</th>\n",
              "      <th>Survived</th>\n",
              "    </tr>\n",
              "  </thead>\n",
              "  <tbody>\n",
              "    <tr>\n",
              "      <th>4803</th>\n",
              "      <td>11/09/2001</td>\n",
              "      <td>08:47</td>\n",
              "      <td>New York City, New York</td>\n",
              "      <td>American Airlines</td>\n",
              "      <td>Boston - Los Angeles</td>\n",
              "      <td>Boeing 767-223ER</td>\n",
              "      <td>N334AA</td>\n",
              "      <td>92.0</td>\n",
              "      <td>92.0</td>\n",
              "      <td>2750.0</td>\n",
              "      <td>The aircraft was hijacked shortly after it lef...</td>\n",
              "      <td>2001</td>\n",
              "      <td>0.0</td>\n",
              "    </tr>\n",
              "    <tr>\n",
              "      <th>4804</th>\n",
              "      <td>11/09/2001</td>\n",
              "      <td>09:03</td>\n",
              "      <td>New York City, New York</td>\n",
              "      <td>United Air Lines</td>\n",
              "      <td>Boston - Los Angeles</td>\n",
              "      <td>Boeing B-767-222</td>\n",
              "      <td>N612UA</td>\n",
              "      <td>65.0</td>\n",
              "      <td>65.0</td>\n",
              "      <td>2750.0</td>\n",
              "      <td>The aircraft was hijacked shortly after it lef...</td>\n",
              "      <td>2001</td>\n",
              "      <td>0.0</td>\n",
              "    </tr>\n",
              "  </tbody>\n",
              "</table>\n",
              "</div>"
            ],
            "text/plain": [
              "            Date   Time  ...  Year Survived\n",
              "4803  11/09/2001  08:47  ...  2001      0.0\n",
              "4804  11/09/2001  09:03  ...  2001      0.0\n",
              "\n",
              "[2 rows x 13 columns]"
            ]
          },
          "metadata": {},
          "execution_count": 22
        }
      ]
    },
    {
      "cell_type": "markdown",
      "metadata": {
        "id": "ODQExFohjP2D"
      },
      "source": [
        "# insights\n",
        "There's a peak close to 2000, with more than 5000 killed on the ground, way more than the number of fatalities.\n",
        "This dreadful number of people killed on the ground is due to the tragic event of 9/11, where the Twin Towers were brought down by two planes hijacked by terrorists."
      ]
    },
    {
      "cell_type": "code",
      "metadata": {
        "id": "m9OJdna6VmP8"
      },
      "source": [
        ""
      ],
      "execution_count": null,
      "outputs": []
    },
    {
      "cell_type": "markdown",
      "metadata": {
        "id": "5oCWg7lCsGiP"
      },
      "source": [
        "* which was the worst Operator ?"
      ]
    },
    {
      "cell_type": "code",
      "metadata": {
        "id": "LOm8xEeBkKSD"
      },
      "source": [
        "Op_total = df.groupby('Operator')[['Operator']].count()                 \n",
        "Op_total = Op_total.rename(columns={\"Operator\": \"Count\"})            \n",
        "Op_total = Op_total.sort_values(by='Count', ascending=False).head(10)"
      ],
      "execution_count": null,
      "outputs": []
    },
    {
      "cell_type": "code",
      "metadata": {
        "colab": {
          "base_uri": "https://localhost:8080/",
          "height": 404
        },
        "id": "xO26IrkvkKWd",
        "outputId": "e7e39de4-5a47-494b-81cc-759683d71d7b"
      },
      "source": [
        "plt.figure(figsize=(12,6))\n",
        "sns.barplot(y=Op_total.index, x=\"Count\", data=Op_total,palette=\"Blues_d\",orient='h')\n",
        "plt.xlabel('Count', fontsize=10)\n",
        "plt.ylabel('Operator', fontsize=10)\n",
        "plt.title('Total Count by Opeartor', loc='Center', fontsize=14)\n",
        "plt.savefig('pic5',bbox_inches='tight')\n",
        "plt.show()"
      ],
      "execution_count": null,
      "outputs": [
        {
          "output_type": "display_data",
          "data": {
            "image/png": "[encoded data removed]",
            "text/plain": [
              "<Figure size 864x432 with 1 Axes>"
            ]
          },
          "metadata": {
            "needs_background": "light"
          }
        }
      ]
    },
    {
      "cell_type": "markdown",
      "metadata": {
        "id": "TUdKcetltBeX"
      },
      "source": [
        "# insights\n",
        "Aeroflot is the most dangerous operator. People have high chances of dying if they flew with Aeroflot than any other operator.\n"
      ]
    },
    {
      "cell_type": "code",
      "metadata": {
        "id": "LDmSvQ2zkKqz"
      },
      "source": [
        ""
      ],
      "execution_count": null,
      "outputs": []
    },
    {
      "cell_type": "markdown",
      "metadata": {
        "id": "OyZXaCHFtbQl"
      },
      "source": [
        "* which was the worst year to fly ?"
      ]
    },
    {
      "cell_type": "code",
      "metadata": {
        "colab": {
          "base_uri": "https://localhost:8080/",
          "height": 394
        },
        "id": "N7K_soKTkKut",
        "outputId": "5567dc41-f657-4f4a-d684-a8be755546a4"
      },
      "source": [
        "w_yr=df.groupby('Year').agg({'Fatalities':'sum'}).sort_values(by='Fatalities', ascending =False)\n",
        "w_yr.rename(columns={'Fatalities':'Total Fatalities per year'}).head(10)  #70s and 80s are among the worst years for airline industry. 1972 is the worst so far, causing maximum no. of fatalities "
      ],
      "execution_count": null,
      "outputs": [
        {
          "output_type": "execute_result",
          "data": {
            "text/html": [
              "<div>\n",
              "<style scoped>\n",
              "    .dataframe tbody tr th:only-of-type {\n",
              "        vertical-align: middle;\n",
              "    }\n",
              "\n",
              "    .dataframe tbody tr th {\n",
              "        vertical-align: top;\n",
              "    }\n",
              "\n",
              "    .dataframe thead th {\n",
              "        text-align: right;\n",
              "    }\n",
              "</style>\n",
              "<table border=\"1\" class=\"dataframe\">\n",
              "  <thead>\n",
              "    <tr style=\"text-align: right;\">\n",
              "      <th></th>\n",
              "      <th>Total Fatalities per year</th>\n",
              "    </tr>\n",
              "    <tr>\n",
              "      <th>Year</th>\n",
              "      <th></th>\n",
              "    </tr>\n",
              "  </thead>\n",
              "  <tbody>\n",
              "    <tr>\n",
              "      <th>1972</th>\n",
              "      <td>2937.0</td>\n",
              "    </tr>\n",
              "    <tr>\n",
              "      <th>1985</th>\n",
              "      <td>2670.0</td>\n",
              "    </tr>\n",
              "    <tr>\n",
              "      <th>1973</th>\n",
              "      <td>2485.0</td>\n",
              "    </tr>\n",
              "    <tr>\n",
              "      <th>1996</th>\n",
              "      <td>2386.0</td>\n",
              "    </tr>\n",
              "    <tr>\n",
              "      <th>1974</th>\n",
              "      <td>2318.0</td>\n",
              "    </tr>\n",
              "    <tr>\n",
              "      <th>1989</th>\n",
              "      <td>2293.0</td>\n",
              "    </tr>\n",
              "    <tr>\n",
              "      <th>1968</th>\n",
              "      <td>2156.0</td>\n",
              "    </tr>\n",
              "    <tr>\n",
              "      <th>1977</th>\n",
              "      <td>2138.0</td>\n",
              "    </tr>\n",
              "    <tr>\n",
              "      <th>1992</th>\n",
              "      <td>2122.0</td>\n",
              "    </tr>\n",
              "    <tr>\n",
              "      <th>1976</th>\n",
              "      <td>2059.0</td>\n",
              "    </tr>\n",
              "  </tbody>\n",
              "</table>\n",
              "</div>"
            ],
            "text/plain": [
              "      Total Fatalities per year\n",
              "Year                           \n",
              "1972                     2937.0\n",
              "1985                     2670.0\n",
              "1973                     2485.0\n",
              "1996                     2386.0\n",
              "1974                     2318.0\n",
              "1989                     2293.0\n",
              "1968                     2156.0\n",
              "1977                     2138.0\n",
              "1992                     2122.0\n",
              "1976                     2059.0"
            ]
          },
          "metadata": {},
          "execution_count": 25
        }
      ]
    },
    {
      "cell_type": "code",
      "metadata": {
        "colab": {
          "base_uri": "https://localhost:8080/",
          "height": 348
        },
        "id": "o3IV9JiPkLDW",
        "outputId": "7a86b0c3-1872-4ede-ca67-bd11af4c77a9"
      },
      "source": [
        "wy=w_yr.plot(kind='bar',figsize=(15,5))\n",
        "plt.savefig('pic6',bbox_inches='tight')\n",
        "plt.show()"
      ],
      "execution_count": null,
      "outputs": [
        {
          "output_type": "display_data",
          "data": {
            "image/png": "[encoded data removed]",
            "text/plain": [
              "<Figure size 1080x360 with 1 Axes>"
            ]
          },
          "metadata": {
            "needs_background": "light"
          }
        }
      ]
    },
    {
      "cell_type": "markdown",
      "metadata": {
        "id": "cVJ4Z1rdCWYh"
      },
      "source": [
        "# insights \n",
        "70s and 80s are among the worst years for airline industry. 1972 is the worst so far, causing maximum no. of fatalities "
      ]
    },
    {
      "cell_type": "code",
      "metadata": {
        "id": "TwdAvq7zkLJk"
      },
      "source": [
        ""
      ],
      "execution_count": null,
      "outputs": []
    },
    {
      "cell_type": "markdown",
      "metadata": {
        "id": "JksGc7-hChdq"
      },
      "source": [
        "* which Type is used in the most crashed planes ?\n"
      ]
    },
    {
      "cell_type": "code",
      "metadata": {
        "colab": {
          "base_uri": "https://localhost:8080/",
          "height": 418
        },
        "id": "qMKaahxckLhf",
        "outputId": "367379dc-366e-476d-f4c4-fac786274c82"
      },
      "source": [
        "\n",
        "d2 = df.groupby(['Type']).agg({'Fatalities':'sum'}).sort_values(by=['Fatalities'],ascending=False).head(10).plot.bar()\n",
        "\n",
        "plt.savefig('pic7',bbox_inches='tight')\n",
        "plt.show()"
      ],
      "execution_count": null,
      "outputs": [
        {
          "output_type": "display_data",
          "data": {
            "image/png": "[encoded data removed]",
            "text/plain": [
              "<Figure size 432x288 with 1 Axes>"
            ]
          },
          "metadata": {
            "needs_background": "light"
          }
        }
      ]
    },
    {
      "cell_type": "markdown",
      "metadata": {
        "id": "lDf6QWprDkgT"
      },
      "source": [
        "# insights \n",
        "Douglas DC-3 is atleast 5 times more probable to crash than any other type of aircraft"
      ]
    },
    {
      "cell_type": "code",
      "metadata": {
        "id": "w2R-Qy4akLkb"
      },
      "source": [
        ""
      ],
      "execution_count": null,
      "outputs": []
    },
    {
      "cell_type": "markdown",
      "metadata": {
        "id": "Wi9G0p1gqGPY"
      },
      "source": [
        "* which type of plane  has highest aboard ?"
      ]
    },
    {
      "cell_type": "code",
      "metadata": {
        "colab": {
          "base_uri": "https://localhost:8080/",
          "height": 590
        },
        "id": "E7QxBsG6DgeQ",
        "outputId": "4c47f2a6-b78a-4471-f2ed-d26da8e08871"
      },
      "source": [
        "a = df['Type'].sort_values(ascending=False)[:10]\n",
        "b= df['Aboard'].sort_values(ascending=False)[:10]\n",
        "plt.figure(figsize=(12,6))\n",
        "plt.title('which Type  having highest Aboard')\n",
        "plt.xlabel('Type')\n",
        "plt.ylabel('aboard')\n",
        "plt.bar(a,b,color=['forestgreen','limegreen','springgreen','aquamarine','turquoise'])\n",
        "plt.xticks(rotation=90)\n",
        "plt.savefig('pic8',bbox_inches='tight')\n",
        "plt.show()"
      ],
      "execution_count": null,
      "outputs": [
        {
          "output_type": "display_data",
          "data": {
            "image/png": "[encoded data removed]",
            "text/plain": [
              "<Figure size 864x432 with 1 Axes>"
            ]
          },
          "metadata": {
            "needs_background": "light"
          }
        }
      ]
    },
    {
      "cell_type": "markdown",
      "metadata": {
        "id": "tfNuXVeEqph8"
      },
      "source": [
        "# insights \n",
        "dehavilland DH has most no.of aboard  , from the graph its clear that dehavilland type is most used and its variety types. This type and its variety is most demanding and this type can occupy more aboards than any other."
      ]
    },
    {
      "cell_type": "code",
      "metadata": {
        "id": "ITrWo_jmDgi0"
      },
      "source": [
        ""
      ],
      "execution_count": null,
      "outputs": []
    },
    {
      "cell_type": "markdown",
      "metadata": {
        "id": "soWIeMDqsT3E"
      },
      "source": [
        "* which location has highest fatalities?\n",
        "\n",
        "\n"
      ]
    },
    {
      "cell_type": "code",
      "metadata": {
        "colab": {
          "base_uri": "https://localhost:8080/",
          "height": 536
        },
        "id": "bif1yQhsDgm6",
        "outputId": "1e4e5cc6-47b5-42c5-bf55-c830bab21142"
      },
      "source": [
        "e = df['Location'].sort_values(ascending=False)[:10]\n",
        "f= df['Fatalities'].sort_values(ascending=False)[:10]\n",
        "plt.figure(figsize=(12,6))\n",
        "plt.title('Most 5 location having highest Fatalities')\n",
        "plt.xlabel('location')\n",
        "plt.ylabel('Fatalities')\n",
        "plt.xticks(rotation=90)\n",
        "plt.bar(e,f,color=\"salmon\")\n",
        "plt.savefig('pic9',bbox_inches='tight')\n",
        "plt.show()"
      ],
      "execution_count": null,
      "outputs": [
        {
          "output_type": "display_data",
          "data": {
            "image/png": "[encoded data removed]",
            "text/plain": [
              "<Figure size 864x432 with 1 Axes>"
            ]
          },
          "metadata": {
            "needs_background": "light"
          }
        }
      ]
    },
    {
      "cell_type": "markdown",
      "metadata": {
        "id": "1Et-fOiMuTsX"
      },
      "source": [
        "# insights\n",
        "canada have the highest no.of crashes occured and has highest fatalities.And this is  most the riskiest location to fly."
      ]
    },
    {
      "cell_type": "code",
      "metadata": {
        "id": "4rlvPuN6Dgqt"
      },
      "source": [
        ""
      ],
      "execution_count": null,
      "outputs": []
    },
    {
      "cell_type": "markdown",
      "metadata": {
        "id": "ogq2VrGEx9aM"
      },
      "source": [
        "* what is the relation between operator and fatalities?"
      ]
    },
    {
      "cell_type": "code",
      "metadata": {
        "colab": {
          "base_uri": "https://localhost:8080/",
          "height": 543
        },
        "id": "20uEC2fODg_w",
        "outputId": "be0bc6d2-9a8a-41c9-9cbc-14078256d0a6"
      },
      "source": [
        "operator_fatal = df[['Operator','Fatalities']].groupby(['Operator']).sum()\n",
        "operator_fatal = operator_fatal['Fatalities'].sort_values(ascending=False)[:10]\n",
        "operator_fatal_keys = operator_fatal.index\n",
        "operator_fatal_val = operator_fatal.values\n",
        "plt.figure(figsize=(12,6))\n",
        "sns.barplot(x = operator_fatal_keys,y =operator_fatal_val)\n",
        "plt.title('operator v/s Fatalities')\n",
        "plt.xlabel('Operator')\n",
        "plt.ylabel(' total fatalities')\n",
        "plt.xticks(rotation=90)\n",
        "plt.savefig('pic10',bbox_inches='tight')\n",
        "plt.show()"
      ],
      "execution_count": null,
      "outputs": [
        {
          "output_type": "display_data",
          "data": {
            "image/png": "[encoded data removed]",
            "text/plain": [
              "<Figure size 864x432 with 1 Axes>"
            ]
          },
          "metadata": {
            "needs_background": "light"
          }
        }
      ]
    },
    {
      "cell_type": "markdown",
      "metadata": {
        "id": "4GXTfBM2yeVa"
      },
      "source": [
        "# insights\n",
        "The operator aerflot is the most dangerous operator and have high fatalities than others.second most is Militry U.S air force."
      ]
    },
    {
      "cell_type": "code",
      "metadata": {
        "id": "Kiw0fk1cDhDy"
      },
      "source": [
        ""
      ],
      "execution_count": null,
      "outputs": []
    },
    {
      "cell_type": "markdown",
      "metadata": {
        "id": "RDguUnIny5Wr"
      },
      "source": [
        "* which operator has highest survivors ?"
      ]
    },
    {
      "cell_type": "code",
      "metadata": {
        "colab": {
          "base_uri": "https://localhost:8080/",
          "height": 536
        },
        "id": "f3qanvcKDhZE",
        "outputId": "652ba507-8853-4e4c-a477-bf534392bff2"
      },
      "source": [
        "operator_sur = df[['Operator','Survived']].groupby(['Operator']).sum()\n",
        "operator_sur = operator_sur['Survived'].sort_values(ascending=False)[:10]\n",
        "operator_sur_keys = operator_sur.index\n",
        "operator_sur_val = operator_sur.values\n",
        "plt.figure(figsize=(12,6))\n",
        "sns.barplot(x = operator_sur_keys,y =operator_sur_val)\n",
        "plt.title('operator v/s survived')\n",
        "plt.xlabel('Operator')\n",
        "plt.ylabel(' total survived')\n",
        "plt.xticks(rotation=90)\n",
        "plt.savefig('pic11',bbox_inches='tight')\n",
        "plt.show()"
      ],
      "execution_count": null,
      "outputs": [
        {
          "output_type": "display_data",
          "data": {
            "image/png": "[encoded data removed]",
            "text/plain": [
              "<Figure size 864x432 with 1 Axes>"
            ]
          },
          "metadata": {
            "needs_background": "light"
          }
        }
      ]
    },
    {
      "cell_type": "code",
      "metadata": {
        "id": "qt9cYOIjhsFl"
      },
      "source": [
        ""
      ],
      "execution_count": null,
      "outputs": []
    },
    {
      "cell_type": "markdown",
      "metadata": {
        "id": "UavYUn-wzYYd"
      },
      "source": [
        "# insight\n",
        "as we know that aerflot is the  worst operator from our previous observations,eventhough there is a chance to suvival .in this graph the aerflot has the highest no.of survivers almost 1700 were survived .second most is pan american airways its around 1500 and so on."
      ]
    },
    {
      "cell_type": "code",
      "metadata": {
        "id": "RIV_sV3YDhd_"
      },
      "source": [
        ""
      ],
      "execution_count": null,
      "outputs": []
    },
    {
      "cell_type": "markdown",
      "metadata": {
        "id": "mrNqPFwYzhcP"
      },
      "source": [
        "* which year has highest survived?"
      ]
    },
    {
      "cell_type": "code",
      "metadata": {
        "colab": {
          "base_uri": "https://localhost:8080/"
        },
        "id": "xcJ3rK6hzdPH",
        "outputId": "8ada4b59-a46a-4f5c-f039-97a6c5064350"
      },
      "source": [
        " c= df.groupby('Year')\n",
        " d= c['Survived'].agg(np.mean)\n",
        " print(d)"
      ],
      "execution_count": null,
      "outputs": [
        {
          "output_type": "stream",
          "name": "stdout",
          "text": [
            "Year\n",
            "1908     1.000000\n",
            "1912     0.000000\n",
            "1913     2.000000\n",
            "1915    10.000000\n",
            "1916     0.200000\n",
            "          ...    \n",
            "2005    16.823529\n",
            "2006     5.653061\n",
            "2007     8.018519\n",
            "2008    10.370968\n",
            "2009    12.916667\n",
            "Name: Survived, Length: 98, dtype: float64\n"
          ]
        }
      ]
    },
    {
      "cell_type": "code",
      "metadata": {
        "colab": {
          "base_uri": "https://localhost:8080/",
          "height": 388
        },
        "id": "46T2v5IazdTT",
        "outputId": "660b863c-a5b6-493a-b155-449a129837d3"
      },
      "source": [
        "plt.figure(figsize=(12,6))\n",
        "plt.plot(d,'g^',color='r')\n",
        "plt.xticks(rotation=90)\n",
        "plt.savefig('pic12',bbox_inches='tight')\n",
        "plt.show()"
      ],
      "execution_count": null,
      "outputs": [
        {
          "output_type": "display_data",
          "data": {
            "image/png": "[encoded data removed]",
            "text/plain": [
              "<Figure size 864x432 with 1 Axes>"
            ]
          },
          "metadata": {
            "needs_background": "light"
          }
        }
      ]
    },
    {
      "cell_type": "markdown",
      "metadata": {
        "id": "r9NPBCXS0I_A"
      },
      "source": [
        "# insights\n",
        "\n",
        "Earlier the survivor rate is really low and after 1980 there is a change in the pattern .which means after 1980's survivor rate is highly increasing,its a good sighn for aviation industry .And people using airlways  also  feel safer . technological development is also  a factor."
      ]
    },
    {
      "cell_type": "code",
      "metadata": {
        "id": "OSm6wIwEzdXR"
      },
      "source": [
        ""
      ],
      "execution_count": null,
      "outputs": []
    },
    {
      "cell_type": "code",
      "metadata": {
        "id": "ITUxnJRBzdhg"
      },
      "source": [
        ""
      ],
      "execution_count": null,
      "outputs": []
    },
    {
      "cell_type": "markdown",
      "metadata": {
        "id": "8am_6yxH0RKA"
      },
      "source": [
        "# CONCLUSION\n",
        "This analysis will helpful for both aviation industry as well as people who chooses air ways as their means of transporation.they get better understanding of how crashes happend ,is there any hope for survival in case anything happend, and how much safe it is?.\n",
        "We analyze data of around 110 yrs of plane crashes .From this its clear that early 40's,and 70's to 80's are the worst period of aviation industry.lots of crashes and the fatalites rate also high, and also that time the world war 2 happed its also a reason for highest crash rates.Aeroflot was the worst operator and the planes have doglus c3  as their  type had the high chances to crash. the year which higher crashes were occr in 1972 around 104 crashes.Most accidents took place in  canada ,may  be which is th riskiest  location.The survived rates were increase from 1980's till   2009.which means technologies are improved the fatalites rates were decreased and also crash rates also decreased  its a good sign.There is so many reasons for air accidents may be its technical  issue ,air turbulance, terrorist attacks ,or may be piolts error.eventhough which is a efficient form of modern transpotation."
      ]
    },
    {
      "cell_type": "markdown",
      "metadata": {
        "id": "GnPgKACPlyM6"
      },
      "source": [
        ""
      ]
    },
    {
      "cell_type": "code",
      "metadata": {
        "id": "glbiTklRzdld"
      },
      "source": [
        ""
      ],
      "execution_count": null,
      "outputs": []
    },
    {
      "cell_type": "code",
      "metadata": {
        "id": "kXDJP4PxzdpY"
      },
      "source": [
        ""
      ],
      "execution_count": null,
      "outputs": []
    },
    {
      "cell_type": "code",
      "metadata": {
        "id": "kfya1Zp6zdtV"
      },
      "source": [
        ""
      ],
      "execution_count": null,
      "outputs": []
    },
    {
      "cell_type": "code",
      "metadata": {
        "id": "-SAULnC9zdx5"
      },
      "source": [
        ""
      ],
      "execution_count": null,
      "outputs": []
    },
    {
      "cell_type": "code",
      "metadata": {
        "id": "BV_xODPDzd18"
      },
      "source": [
        ""
      ],
      "execution_count": null,
      "outputs": []
    },
    {
      "cell_type": "code",
      "metadata": {
        "id": "Li7E8qe3zd6B"
      },
      "source": [
        ""
      ],
      "execution_count": null,
      "outputs": []
    }
  ]
}